{
 "cells": [
  {
   "cell_type": "code",
   "execution_count": 2,
   "metadata": {},
   "outputs": [],
   "source": [
    "import Trie\n",
    "import random\n",
    "import matplotlib "
   ]
  },
  {
   "cell_type": "code",
   "execution_count": 3,
   "metadata": {},
   "outputs": [],
   "source": [
    "morpheme_sizes = range(1,6)\n",
    "morpheme_count = range(2, 50)\n",
    "string_lengths = range(20,1000, 20)"
   ]
  },
  {
   "cell_type": "code",
   "execution_count": 21,
   "metadata": {},
   "outputs": [
    {
     "name": "stdout",
     "output_type": "stream",
     "text": [
      "0100\n",
      "01-00\n"
     ]
    }
   ],
   "source": [
    "#Returns a random string of length using alphabet\n",
    "def random_string(length, alphabet):\n",
    "    rv = \"\"\n",
    "    for i in range(length):\n",
    "        rv += str(random.choice(alphabet))\n",
    "    return rv\n",
    "\n",
    "#Generates a morpheme set of size count with random lengths between min_length and max_length from symbols\n",
    "def generate_morphemes(symbols, count, min_length = 1, max_length = 6):\n",
    "    morphemes = set()\n",
    "    counter = 0 + count\n",
    "    \n",
    "    #If the alphabet is too small to generate count morphemes it will generate \n",
    "    #the max amount of morphemes possible\n",
    "    if count > (len(symbols)**max_length): counter = len(symbols)**max_length\n",
    "\n",
    "    while counter > 0:\n",
    "        morpheme_len = random.choice(range(min_length,max_length))\n",
    "        morpheme = random_string(morpheme_len, symbols)\n",
    "        if morpheme not in morphemes:\n",
    "            morphemes.add(morpheme)\n",
    "            counter -= 1\n",
    "    return morphemes\n",
    "        \n",
    "def generate_corpus(string_length, count, alphabet = [\"1\",\"0\"], min_length = 1, max_length = 6):\n",
    "    corpus = \"\"\n",
    "    test = \"\"\n",
    "    \n",
    "    morphemes = generate_morphemes(alphabet, count, min_length, max_length)\n",
    "\n",
    "    used = set()\n",
    "    while len(corpus) < string_length:\n",
    "        morpheme = random.choice(list(morphemes))\n",
    "        if morpheme not in used:\n",
    "            used.add(morpheme)\n",
    "        corpus += morpheme\n",
    "        \n",
    "    for morpheme in used:\n",
    "        test += (morpheme + \"-\")\n",
    "    test = test[:-1]\n",
    "    \n",
    "    return test, corpus\n",
    "\n",
    "test, corpus = generate_corpus(4, 3, max_length = 3)\n",
    "print(corpus)\n",
    "print(test)"
   ]
  },
  {
   "cell_type": "code",
   "execution_count": 19,
   "metadata": {},
   "outputs": [],
   "source": [
    "def convergence_check (string1, string2, threshold = .99):\n",
    "    counter = 0\n",
    "    length = min(len(string1), len(string2))\n",
    "    for i in range(length):\n",
    "        if string1[i] == string2[i]:\n",
    "            counter += 1\n",
    "    return counter/length"
   ]
  },
  {
   "cell_type": "code",
   "execution_count": 26,
   "metadata": {},
   "outputs": [
    {
     "name": "stdout",
     "output_type": "stream",
     "text": [
      "001111\n",
      "0011-11\n",
      "00110011111100110011\n"
     ]
    }
   ],
   "source": [
    "corpora = dict()\n",
    "tests = dict()\n",
    "truths = dict()\n",
    "for count in morpheme_count:\n",
    "    for string_length in string_lengths:\n",
    "        run = (count, string_length)\n",
    "        truth, corpus = generate_corpus(string_length, count)\n",
    "        corpora[run] = corpus\n",
    "        truths[run] = truth\n",
    "        test = \"\"\n",
    "        for char in truth:\n",
    "            if char != \"-\": test += char\n",
    "        tests[run] = test\n",
    "print(tests[2,20])\n",
    "print(truths[2,20])\n",
    "print(corpora[2,20])"
   ]
  },
  {
   "cell_type": "code",
   "execution_count": 30,
   "metadata": {},
   "outputs": [
    {
     "name": "stdout",
     "output_type": "stream",
     "text": [
      "ROOT\n",
      "00111-1\n",
      "ROOT\n",
      "00111-1\n",
      "ROOT\n",
      "00111-1\n",
      "ROOT\n",
      "00111-1\n",
      "ROOT\n",
      "00111-1\n",
      "ROOT\n",
      "00111-1\n",
      "ROOT\n",
      "00111-1\n",
      "ROOT\n",
      "00111-1\n",
      "ROOT\n",
      "00111-1\n",
      "ROOT\n",
      "00111-1\n",
      "ROOT\n",
      "00111-1\n",
      "ROOT\n",
      "001111\n",
      "ROOT\n",
      "00111-1\n",
      "ROOT\n",
      "00111-1\n",
      "ROOT\n",
      "00111-1\n",
      "ROOT\n",
      "00111-1\n",
      "ROOT\n",
      "00111-1\n",
      "ROOT\n",
      "00111-1\n",
      "ROOT\n",
      "00111-1\n",
      "ROOT\n",
      "00111-1\n",
      "0011-11\n"
     ]
    }
   ],
   "source": [
    "for i in range(20):\n",
    "    print(sigmoid_translated_tree.train(corpora[(2,20)]))\n",
    "    print(sigmoid_translated_tree.run(tests[(2,20)]))\n",
    "print(truths[(2,20)])"
   ]
  },
  {
   "cell_type": "code",
   "execution_count": null,
   "metadata": {},
   "outputs": [],
   "source": [
    "for count in morpheme_count:\n",
    "    for string_length in string_lengths:\n",
    "        \n",
    "        sigmoid_tree = Trie.Trie(\"sigmoid\")\n",
    "        sigmoid_translated_tree = Trie.Trie(\"sigmoid_translated\")\n",
    "        simple_tree = Trie.Trie(\"simple\")"
   ]
  }
 ],
 "metadata": {
  "kernelspec": {
   "display_name": "Python 3",
   "language": "python",
   "name": "python3"
  },
  "language_info": {
   "codemirror_mode": {
    "name": "ipython",
    "version": 3
   },
   "file_extension": ".py",
   "mimetype": "text/x-python",
   "name": "python",
   "nbconvert_exporter": "python",
   "pygments_lexer": "ipython3",
   "version": "3.7.5"
  }
 },
 "nbformat": 4,
 "nbformat_minor": 2
}
