{
 "cells": [
  {
   "cell_type": "code",
   "execution_count": 4,
   "metadata": {},
   "outputs": [],
   "source": [
    "import Trie\n",
    "import random\n",
    "import matplotlib "
   ]
  },
  {
   "cell_type": "code",
   "execution_count": 5,
   "metadata": {},
   "outputs": [],
   "source": [
    "morpheme_sizes = range(1,6)\n",
    "morpheme_count = range(2, 50)\n",
    "string_lengths = range(20,1000, 20)"
   ]
  },
  {
   "cell_type": "code",
   "execution_count": 6,
   "metadata": {},
   "outputs": [
    {
     "name": "stdout",
     "output_type": "stream",
     "text": [
      "10000\n",
      "00-1\n"
     ]
    }
   ],
   "source": [
    "#Returns a random string of length using alphabet\n",
    "def random_string(length, alphabet):\n",
    "    rv = \"\"\n",
    "    for i in range(length):\n",
    "        rv += str(random.choice(alphabet))\n",
    "    return rv\n",
    "\n",
    "#Generates a morpheme set of size count with random lengths between min_length and max_length from symbols\n",
    "def generate_morphemes(symbols, count, min_length = 1, max_length = 6):\n",
    "    morphemes = set()\n",
    "    counter = 0 + count\n",
    "    \n",
    "    #If the alphabet is too small to generate count morphemes it will generate \n",
    "    #the max amount of morphemes possible\n",
    "    if count > (len(symbols)**max_length): counter = len(symbols)**max_length\n",
    "\n",
    "    while counter > 0:\n",
    "        morpheme_len = random.choice(range(min_length,max_length))\n",
    "        morpheme = random_string(morpheme_len, symbols)\n",
    "        if morpheme not in morphemes:\n",
    "            morphemes.add(morpheme)\n",
    "            counter -= 1\n",
    "    return morphemes\n",
    "        \n",
    "def generate_corpus(string_length, count, alphabet = [\"1\",\"0\"], min_length = 1, max_length = 6):\n",
    "    corpus = \"\"\n",
    "    test = \"\"\n",
    "    \n",
    "    morphemes = generate_morphemes(alphabet, count, min_length, max_length)\n",
    "\n",
    "    used = set()\n",
    "    while len(corpus) < string_length:\n",
    "        morpheme = random.choice(list(morphemes))\n",
    "        if morpheme not in used:\n",
    "            used.add(morpheme)\n",
    "        corpus += morpheme\n",
    "        \n",
    "    for morpheme in used:\n",
    "        test += (morpheme + \"-\")\n",
    "    test = test[:-1]\n",
    "    \n",
    "    return test, corpus\n",
    "\n",
    "test, corpus = generate_corpus(4, 3, max_length = 3)\n",
    "print(corpus)\n",
    "print(test)"
   ]
  },
  {
   "cell_type": "code",
   "execution_count": 7,
   "metadata": {},
   "outputs": [],
   "source": [
    "def convergence_check (string1, string2):\n",
    "    counter = 0\n",
    "    length = min(len(string1), len(string2))\n",
    "    for i in range(length):\n",
    "        if string1[i] == string2[i]:\n",
    "            counter += 1\n",
    "    return counter/length"
   ]
  },
  {
   "cell_type": "code",
   "execution_count": 8,
   "metadata": {},
   "outputs": [
    {
     "name": "stdout",
     "output_type": "stream",
     "text": [
      "110110\n",
      "11011-0\n",
      "0011011110111101111011\n"
     ]
    }
   ],
   "source": [
    "corpora = dict()\n",
    "tests = dict()\n",
    "truths = dict()\n",
    "for count in morpheme_count:\n",
    "    for string_length in string_lengths:\n",
    "        run = (count, string_length)\n",
    "        truth, corpus = generate_corpus(string_length, count)\n",
    "        corpora[run] = corpus\n",
    "        truths[run] = truth\n",
    "        test = \"\"\n",
    "        for char in truth:\n",
    "            if char != \"-\": test += char\n",
    "        tests[run] = test\n",
    "print(tests[2,20])\n",
    "print(truths[2,20])\n",
    "print(corpora[2,20])"
   ]
  },
  {
   "cell_type": "code",
   "execution_count": 10,
   "metadata": {},
   "outputs": [
    {
     "ename": "KeyboardInterrupt",
     "evalue": "",
     "output_type": "error",
     "traceback": [
      "\u001b[0;31m---------------------------------------------------------------------------\u001b[0m",
      "\u001b[0;31mKeyboardInterrupt\u001b[0m                         Traceback (most recent call last)",
      "\u001b[0;32m<ipython-input-10-2bf1690b65be>\u001b[0m in \u001b[0;36m<module>\u001b[0;34m\u001b[0m\n\u001b[1;32m     13\u001b[0m         \u001b[0;32mwhile\u001b[0m \u001b[0mcounter\u001b[0m \u001b[0;34m<\u001b[0m \u001b[0;36m1000\u001b[0m\u001b[0;34m:\u001b[0m\u001b[0;34m\u001b[0m\u001b[0;34m\u001b[0m\u001b[0m\n\u001b[1;32m     14\u001b[0m             \u001b[0mcounter\u001b[0m \u001b[0;34m+=\u001b[0m \u001b[0;36m1\u001b[0m\u001b[0;34m\u001b[0m\u001b[0;34m\u001b[0m\u001b[0m\n\u001b[0;32m---> 15\u001b[0;31m             \u001b[0msigmoid_tree\u001b[0m\u001b[0;34m.\u001b[0m\u001b[0mtrain\u001b[0m\u001b[0;34m(\u001b[0m\u001b[0mcorpora\u001b[0m\u001b[0;34m[\u001b[0m\u001b[0mrun\u001b[0m\u001b[0;34m]\u001b[0m\u001b[0;34m)\u001b[0m\u001b[0;34m\u001b[0m\u001b[0;34m\u001b[0m\u001b[0m\n\u001b[0m\u001b[1;32m     16\u001b[0m             \u001b[0mresult\u001b[0m \u001b[0;34m=\u001b[0m \u001b[0mconvergence_check\u001b[0m\u001b[0;34m(\u001b[0m\u001b[0msigmoid_tree\u001b[0m\u001b[0;34m.\u001b[0m\u001b[0mrun\u001b[0m\u001b[0;34m(\u001b[0m\u001b[0mtests\u001b[0m\u001b[0;34m[\u001b[0m\u001b[0mrun\u001b[0m\u001b[0;34m]\u001b[0m\u001b[0;34m)\u001b[0m\u001b[0;34m,\u001b[0m \u001b[0mtruths\u001b[0m\u001b[0;34m[\u001b[0m\u001b[0mrun\u001b[0m\u001b[0;34m]\u001b[0m\u001b[0;34m)\u001b[0m\u001b[0;34m\u001b[0m\u001b[0;34m\u001b[0m\u001b[0m\n\u001b[1;32m     17\u001b[0m             \u001b[0;32mif\u001b[0m \u001b[0mresult\u001b[0m \u001b[0;34m>\u001b[0m \u001b[0;36m0.9\u001b[0m\u001b[0;34m:\u001b[0m\u001b[0;34m\u001b[0m\u001b[0;34m\u001b[0m\u001b[0m\n",
      "\u001b[0;32m~/School/Masters/Fall_2019/Ling_Processing/Project/Trying-Tries/PTrie/Trie.py\u001b[0m in \u001b[0;36mtrain\u001b[0;34m(self, corpus)\u001b[0m\n\u001b[1;32m     59\u001b[0m             \u001b[0;32melse\u001b[0m\u001b[0;34m:\u001b[0m\u001b[0;34m\u001b[0m\u001b[0;34m\u001b[0m\u001b[0m\n\u001b[1;32m     60\u001b[0m                 \u001b[0mnode\u001b[0m \u001b[0;34m=\u001b[0m \u001b[0mcontext\u001b[0m\u001b[0;34m.\u001b[0m\u001b[0mchildren\u001b[0m\u001b[0;34m[\u001b[0m\u001b[0mcharacter\u001b[0m\u001b[0;34m]\u001b[0m\u001b[0;34m\u001b[0m\u001b[0;34m\u001b[0m\u001b[0m\n\u001b[0;32m---> 61\u001b[0;31m                 \u001b[0mnode\u001b[0m\u001b[0;34m.\u001b[0m\u001b[0mreinforce\u001b[0m\u001b[0;34m(\u001b[0m\u001b[0mreinforcement\u001b[0m\u001b[0;34m)\u001b[0m\u001b[0;34m\u001b[0m\u001b[0;34m\u001b[0m\u001b[0m\n\u001b[0m\u001b[1;32m     62\u001b[0m \u001b[0;34m\u001b[0m\u001b[0m\n\u001b[1;32m     63\u001b[0m             \u001b[0;31m#Probabilistically move in context or return to root\u001b[0m\u001b[0;34m\u001b[0m\u001b[0;34m\u001b[0m\u001b[0;34m\u001b[0m\u001b[0m\n",
      "\u001b[0;31mKeyboardInterrupt\u001b[0m: "
     ]
    }
   ],
   "source": [
    "sigmoid_convergence_results = dict()\n",
    "sigmoid_translated_convergence_results = dict()\n",
    "simple_convergence_results = dict()\n",
    "\n",
    "for count in morpheme_count:\n",
    "    for string_length in string_lengths:\n",
    "        counter = 0\n",
    "        run = (count, string_length)\n",
    "        sigmoid_tree = Trie.Trie(\"sigmoid\")\n",
    "        sigmoid_translated_tree = Trie.Trie(\"sigmoid_translated\")\n",
    "        simple_tree = Trie.Trie(\"simple\")\n",
    "        \n",
    "        while counter < 1000:\n",
    "            counter += 1\n",
    "            sigmoid_tree.train(corpora[run])\n",
    "            result = convergence_check(sigmoid_tree.run(tests[run]), truths[run])\n",
    "            if result > 0.9:\n",
    "                break\n",
    "        sigmoid_convergence_results[run] = counter\n",
    "        \n",
    "        while counter < 1000:\n",
    "            counter += 1\n",
    "            sigmoid_translated_tree.train(corpora[run])\n",
    "            result = convergence_check(sigmoid_translated_tree.run(tests[run]), truths[run])\n",
    "            if result > 0.9:\n",
    "                break\n",
    "        sigmoid_translated_convergence_results[run] = counter\n",
    "        \n",
    "        while counter < 1000:\n",
    "            counter += 1\n",
    "            simple_tree.train(corpora[run])\n",
    "            result = convergence_check(simple_tree.run(tests[run]), truths[run])\n",
    "            if result > 0.9:\n",
    "                break\n",
    "        simple_convergence_results[run] = counter"
   ]
  },
  {
   "cell_type": "code",
   "execution_count": null,
   "metadata": {},
   "outputs": [],
   "source": []
  }
 ],
 "metadata": {
  "kernelspec": {
   "display_name": "Python 3",
   "language": "python",
   "name": "python3"
  },
  "language_info": {
   "codemirror_mode": {
    "name": "ipython",
    "version": 3
   },
   "file_extension": ".py",
   "mimetype": "text/x-python",
   "name": "python",
   "nbconvert_exporter": "python",
   "pygments_lexer": "ipython3",
   "version": "3.7.5"
  }
 },
 "nbformat": 4,
 "nbformat_minor": 2
}
